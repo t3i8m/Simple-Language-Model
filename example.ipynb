{
 "cells": [
  {
   "cell_type": "code",
   "execution_count": null,
   "id": "9055dc03",
   "metadata": {},
   "outputs": [],
   "source": [
    "from transformers import AutoTokenizer\n",
    "import torch\n",
    "from FeedForwardLM import FeedforwardLM\n",
    "\n",
    "tokenizer = AutoTokenizer.from_pretrained(\"bert-base-uncased\")\n",
    "\n",
    "def predict_next(model, context_ids):\n",
    "    \"\"\"\n",
    "    context_ids: list[int] length WINDOW (5)\n",
    "    \"\"\"\n",
    "    model.eval()\n",
    "    x = torch.tensor(context_ids, dtype=torch.long).unsqueeze(0)  # shape (1,5)\n",
    "    with torch.no_grad():\n",
    "        logits = model(x)               # (1, vocab_size)\n",
    "        next_id = logits.argmax(dim=1).item()\n",
    "    return next_id\n"
   ]
  },
  {
   "cell_type": "code",
   "execution_count": null,
   "id": "88fabe88",
   "metadata": {},
   "outputs": [],
   "source": [
    "\n",
    "model = FeedforwardLM()\n",
    "model.load_state_dict(torch.load(\"checkpoints/fflm.pt\"))\n",
    "\n",
    "text  = \"and thanks for all the\"          # ≤ 5 words!\n",
    "ids   = tokenizer(text)[\"input_ids\"][-5:]   \n",
    "while len(ids) < 5:                 \n",
    "    ids = [tokenizer.pad_token_id] + ids\n",
    "\n",
    "next_id = predict_next(model, ids)\n",
    "print(\"Predicted ID:\", next_id)\n",
    "print(\"Predicted token:\", tokenizer.convert_ids_to_tokens(next_id))\n"
   ]
  }
 ],
 "metadata": {
  "language_info": {
   "name": "python"
  }
 },
 "nbformat": 4,
 "nbformat_minor": 5
}
