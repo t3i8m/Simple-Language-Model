{
 "cells": [
  {
   "cell_type": "code",
   "execution_count": 9,
   "id": "9055dc03",
   "metadata": {},
   "outputs": [],
   "source": [
    "from transformers import AutoTokenizer\n",
    "import torch\n",
    "from FeedForwardLM import FeedforwardLM\n",
    "\n",
    "tokenizer = AutoTokenizer.from_pretrained(\"bert-base-uncased\")\n",
    "\n",
    "def predict_next(model, context_ids):\n",
    "    \"\"\"\n",
    "    context_ids: list[int] length WINDOW (5)\n",
    "    \"\"\"\n",
    "    model.eval()\n",
    "    x = torch.tensor(context_ids, dtype=torch.long).unsqueeze(0)  # shape (1,5)\n",
    "    with torch.no_grad():\n",
    "        logits = model(x)               # (1, vocab_size)\n",
    "        next_id = logits.argmax(dim=1).item()\n",
    "    return next_id\n"
   ]
  },
  {
   "cell_type": "code",
   "execution_count": null,
   "id": "88fabe88",
   "metadata": {},
   "outputs": [
    {
     "name": "stdout",
     "output_type": "stream",
     "text": [
      "Predicted ID: 101\n",
      "Predicted token: [CLS]\n"
     ]
    }
   ],
   "source": [
    "\n",
    "model = FeedforwardLM()\n",
    "model.load_state_dict(torch.load(\"checkpoints/fflm.pt\"))\n",
    "\n",
    "text  = \"hi\"          # ≤ 5 words!\n",
    "ids   = tokenizer(text)[\"input_ids\"][-5:]   \n",
    "while len(ids) < 5:                 \n",
    "    ids = [tokenizer.pad_token_id] + ids\n",
    "\n",
    "next_id = predict_next(model, ids)\n",
    "print(\"Predicted ID:\", next_id)\n",
    "print(\"Predicted token:\", tokenizer.convert_ids_to_tokens(next_id))\n"
   ]
  }
 ],
 "metadata": {
  "kernelspec": {
   "display_name": "Python 3",
   "language": "python",
   "name": "python3"
  },
  "language_info": {
   "codemirror_mode": {
    "name": "ipython",
    "version": 3
   },
   "file_extension": ".py",
   "mimetype": "text/x-python",
   "name": "python",
   "nbconvert_exporter": "python",
   "pygments_lexer": "ipython3",
   "version": "3.10.1"
  }
 },
 "nbformat": 4,
 "nbformat_minor": 5
}
